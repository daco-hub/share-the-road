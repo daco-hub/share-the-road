{
 "cells": [
  {
   "cell_type": "markdown",
   "metadata": {},
   "source": [
    "# TDI CAPSTONE PROJECT \n",
    "\n",
    "## Part 3 - Machine Learning\n",
    "\n",
    "# TITLE: Share the road\n",
    "\n",
    "### AUTHOR: Davide Cortesi"
   ]
  },
  {
   "cell_type": "code",
   "execution_count": 3,
   "metadata": {},
   "outputs": [],
   "source": [
    "import seaborn as sns\n",
    "sns.set()\n",
    "\n",
    "import pandas as pd \n",
    "import numpy as np\n",
    "\n",
    "from sklearn.base import BaseEstimator, TransformerMixin, RegressorMixin\n",
    "from sklearn.compose import ColumnTransformer\n",
    "from sklearn.preprocessing import OneHotEncoder, MinMaxScaler\n",
    "from sklearn.pipeline import Pipeline\n",
    "\n",
    "import pickle"
   ]
  },
  {
   "cell_type": "markdown",
   "metadata": {},
   "source": [
    "`streets_and_weights.csv` contains the streets dataset with the addition of the weights computed on the past data. The code for getting can be found in the Part 2 notebook, "
   ]
  },
  {
   "cell_type": "code",
   "execution_count": 4,
   "metadata": {},
   "outputs": [],
   "source": [
    "df_streets = pd.read_csv('Data/streets_and_weights.csv')"
   ]
  },
  {
   "cell_type": "markdown",
   "metadata": {},
   "source": [
    "## Prediction using street characteristics"
   ]
  },
  {
   "cell_type": "code",
   "execution_count": 5,
   "metadata": {},
   "outputs": [],
   "source": [
    "to_analyze = ['borocode',\n",
    "       'st_width', 'trafdir', 'rw_type', 'snow_pri', 'st_name',\n",
    "       'shape_leng', 'bike_lane', 'bike_trafd',\n",
    "       'lat_1', 'long_1', 'lat_2', 'long_2']\n",
    "X = df_streets[to_analyze]\n",
    "y = df_streets['weight']"
   ]
  },
  {
   "cell_type": "code",
   "execution_count": 15,
   "metadata": {},
   "outputs": [],
   "source": [
    "# getting the middle point of the road \n",
    "\n",
    "class CoordsTransformer(BaseEstimator, TransformerMixin):\n",
    "    \"\"\"\n",
    "    from starting point and end point of the street, \n",
    "    compute the mid-point to approimate position\n",
    "    \"\"\"\n",
    "        \n",
    "    def fit(self, X, y=None):\n",
    "        return self\n",
    "    \n",
    "    def transform(self, X):\n",
    "        X['lat_mid'] = (X['lat_1'] + X['lat_2'])/2\n",
    "        X['long_mid'] = (X['long_1'] + X['long_2'])/2\n",
    "        X = X.drop(columns=['lat_1', 'lat_2', 'long_1', 'long_2'], axis=1)\n",
    "        return X\n",
    "\n",
    "class LaneChecker(BaseEstimator, TransformerMixin):\n",
    "    \"\"\"\n",
    "    check is bike lane runs in the same sense as the street \n",
    "    \"\"\"\n",
    "        \n",
    "    def fit(self, X, y=None):\n",
    "        return self\n",
    "    \n",
    "    def transform(self, X):\n",
    "        X['lanes_direction'] = X[['trafdir', 'bike_trafd']].apply(compare, axis=1)\n",
    "        return X\n",
    "    \n",
    "def compare(road):\n",
    "    if road[1] == '0':\n",
    "        return 'no_lane'\n",
    "    elif road[1] == road[0]:\n",
    "        return 'concord'\n",
    "    else:\n",
    "        return 'discord'\n",
    "        "
   ]
  },
  {
   "cell_type": "code",
   "execution_count": 13,
   "metadata": {},
   "outputs": [],
   "source": [
    "categorical = ['snow_pri', 'lanes_direction', 'rw_type']\n",
    "\n",
    "numeric = ['borocode','st_width', 'bike_lane']\n",
    "\n",
    "coords = ['lat_mid', 'long_mid']\n",
    "\n",
    "encoder = ColumnTransformer([\n",
    "    ('categorical', OneHotEncoder(), categorical),\n",
    "    ('numeric', 'passthrough', numeric),\n",
    "    #('coords', MinMaxScaler(), coords)\n",
    "])"
   ]
  },
  {
   "cell_type": "code",
   "execution_count": 18,
   "metadata": {},
   "outputs": [
    {
     "name": "stderr",
     "output_type": "stream",
     "text": [
      "/var/folders/3y/l8_jr0vx02l53_k2q_bglwb80000gp/T/ipykernel_66764/1711131048.py:13: SettingWithCopyWarning: \n",
      "A value is trying to be set on a copy of a slice from a DataFrame.\n",
      "Try using .loc[row_indexer,col_indexer] = value instead\n",
      "\n",
      "See the caveats in the documentation: https://pandas.pydata.org/pandas-docs/stable/user_guide/indexing.html#returning-a-view-versus-a-copy\n",
      "  X['lat_mid'] = (X['lat_1'] + X['lat_2'])/2\n",
      "/var/folders/3y/l8_jr0vx02l53_k2q_bglwb80000gp/T/ipykernel_66764/1711131048.py:14: SettingWithCopyWarning: \n",
      "A value is trying to be set on a copy of a slice from a DataFrame.\n",
      "Try using .loc[row_indexer,col_indexer] = value instead\n",
      "\n",
      "See the caveats in the documentation: https://pandas.pydata.org/pandas-docs/stable/user_guide/indexing.html#returning-a-view-versus-a-copy\n",
      "  X['long_mid'] = (X['long_1'] + X['long_2'])/2\n"
     ]
    }
   ],
   "source": [
    "encoding_pipe = Pipeline([\n",
    "    ('coords_transformer', CoordsTransformer()),\n",
    "    ('lane_checker', LaneChecker()),\n",
    "    ('encoder', encoder)\n",
    "])\n",
    "\n",
    "X_t = encoding_pipe.fit_transform(X)"
   ]
  },
  {
   "cell_type": "code",
   "execution_count": 20,
   "metadata": {},
   "outputs": [
    {
     "data": {
      "text/plain": [
       "RandomForestRegressor(max_depth=30, n_estimators=10, random_state=42)"
      ]
     },
     "execution_count": 20,
     "metadata": {},
     "output_type": "execute_result"
    }
   ],
   "source": [
    "from sklearn.model_selection import train_test_split\n",
    "from sklearn.metrics import r2_score\n",
    "from sklearn import utils\n",
    "from sklearn.ensemble import RandomForestRegressor\n",
    "\n",
    "X_shuffle, y_shuffle = utils.shuffle(X_t, y, random_state=42)\n",
    "\n",
    "X_train, X_test, y_train, y_test = train_test_split(X_shuffle, y_shuffle, test_size=0.33, random_state=42)\n",
    "\n",
    "forest = RandomForestRegressor(random_state=42, max_depth=30, n_estimators=10)\n",
    "forest.fit(X_train, y_train)"
   ]
  },
  {
   "cell_type": "code",
   "execution_count": 21,
   "metadata": {},
   "outputs": [],
   "source": [
    "y_pred_characteristics = forest.predict(X_test)"
   ]
  },
  {
   "cell_type": "code",
   "execution_count": 22,
   "metadata": {},
   "outputs": [
    {
     "name": "stderr",
     "output_type": "stream",
     "text": [
      "/Users/programming/opt/anaconda3/envs/geo_env/lib/python3.9/site-packages/sklearn/utils/deprecation.py:87: FutureWarning: Function get_feature_names is deprecated; get_feature_names is deprecated in 1.0 and will be removed in 1.2. Please use get_feature_names_out instead.\n",
      "  warnings.warn(msg, category=FutureWarning)\n"
     ]
    },
    {
     "data": {
      "text/plain": [
       "Text(0, 0.5, 'Feature intensity')"
      ]
     },
     "execution_count": 22,
     "metadata": {},
     "output_type": "execute_result"
    },
    {
     "data": {
      "image/png": "[encoded data removed]",
      "text/plain": [
       "<Figure size 720x360 with 1 Axes>"
      ]
     },
     "metadata": {},
     "output_type": "display_data"
    }
   ],
   "source": [
    "import matplotlib.pyplot as plt\n",
    "\n",
    "encoded_features = list(encoder.named_transformers_.categorical.get_feature_names(categorical))\n",
    "feature_names = encoded_features + numeric #+ coords\n",
    "\n",
    "importances = forest.feature_importances_\n",
    "std = np.std([tree.feature_importances_ for tree in forest.estimators_], axis=0)\n",
    "\n",
    "forest_importances = pd.Series(importances, index=feature_names)\n",
    "\n",
    "fig, ax = plt.subplots(figsize=(10,5))\n",
    "forest_importances.plot.bar(ax=ax)\n",
    "ax.set_title('Feature importances')\n",
    "ax.set_ylabel('Feature intensity')"
   ]
  },
  {
   "cell_type": "markdown",
   "metadata": {},
   "source": [
    "## Prediction using seasonality"
   ]
  },
  {
   "cell_type": "code",
   "execution_count": 23,
   "metadata": {},
   "outputs": [],
   "source": [
    "df_bike = pd.read_csv('Data/data_bike.csv')"
   ]
  },
  {
   "cell_type": "code",
   "execution_count": 24,
   "metadata": {},
   "outputs": [],
   "source": [
    "import datetime\n",
    "\n",
    "X = df_bike[['number_of_cyclist_injured', 'number_of_cyclist_killed', 'datetime']]"
   ]
  },
  {
   "cell_type": "code",
   "execution_count": 25,
   "metadata": {
    "scrolled": true
   },
   "outputs": [
    {
     "name": "stderr",
     "output_type": "stream",
     "text": [
      "/var/folders/3y/l8_jr0vx02l53_k2q_bglwb80000gp/T/ipykernel_66764/771118730.py:1: SettingWithCopyWarning: \n",
      "A value is trying to be set on a copy of a slice from a DataFrame.\n",
      "Try using .loc[row_indexer,col_indexer] = value instead\n",
      "\n",
      "See the caveats in the documentation: https://pandas.pydata.org/pandas-docs/stable/user_guide/indexing.html#returning-a-view-versus-a-copy\n",
      "  X['tot'] = X['number_of_cyclist_injured'] + X['number_of_cyclist_killed']\n",
      "/var/folders/3y/l8_jr0vx02l53_k2q_bglwb80000gp/T/ipykernel_66764/771118730.py:2: SettingWithCopyWarning: \n",
      "A value is trying to be set on a copy of a slice from a DataFrame.\n",
      "Try using .loc[row_indexer,col_indexer] = value instead\n",
      "\n",
      "See the caveats in the documentation: https://pandas.pydata.org/pandas-docs/stable/user_guide/indexing.html#returning-a-view-versus-a-copy\n",
      "  X['datetime'] = pd.to_datetime(X['datetime'])\n",
      "/var/folders/3y/l8_jr0vx02l53_k2q_bglwb80000gp/T/ipykernel_66764/771118730.py:3: SettingWithCopyWarning: \n",
      "A value is trying to be set on a copy of a slice from a DataFrame.\n",
      "Try using .loc[row_indexer,col_indexer] = value instead\n",
      "\n",
      "See the caveats in the documentation: https://pandas.pydata.org/pandas-docs/stable/user_guide/indexing.html#returning-a-view-versus-a-copy\n",
      "  X['date'] = X['datetime'].dt.date\n",
      "/var/folders/3y/l8_jr0vx02l53_k2q_bglwb80000gp/T/ipykernel_66764/771118730.py:4: SettingWithCopyWarning: \n",
      "A value is trying to be set on a copy of a slice from a DataFrame.\n",
      "Try using .loc[row_indexer,col_indexer] = value instead\n",
      "\n",
      "See the caveats in the documentation: https://pandas.pydata.org/pandas-docs/stable/user_guide/indexing.html#returning-a-view-versus-a-copy\n",
      "  X['hour'] = X['datetime'].dt.hour\n"
     ]
    }
   ],
   "source": [
    "X['tot'] = X['number_of_cyclist_injured'] + X['number_of_cyclist_killed']\n",
    "X['datetime'] = pd.to_datetime(X['datetime'])\n",
    "X['date'] = X['datetime'].dt.date\n",
    "X['hour'] = X['datetime'].dt.hour\n",
    "\n",
    "day_series = X[['tot', 'date']].groupby('date').sum()\n"
   ]
  },
  {
   "cell_type": "code",
   "execution_count": 26,
   "metadata": {},
   "outputs": [
    {
     "data": {
      "text/plain": [
       "<AxesSubplot:xlabel='date'>"
      ]
     },
     "execution_count": 26,
     "metadata": {},
     "output_type": "execute_result"
    },
    {
     "data": {
      "image/png": "[encoded data removed]",
      "text/plain": [
       "<Figure size 720x360 with 1 Axes>"
      ]
     },
     "metadata": {},
     "output_type": "display_data"
    }
   ],
   "source": [
    "from sklearn.linear_model import LinearRegression\n",
    "\n",
    "#add a constant feature for the trend\n",
    "day_series['julian'] = pd.DatetimeIndex(day_series.index).to_julian_date()\n",
    "day_series['const'] = pd.Series(np.ones(len(day_series.index)), index=day_series.index)\n",
    "day_series['tot'] = day_series['tot']/(day_series['tot'].max())\n",
    "\n",
    "trend = LinearRegression().fit(X=day_series[['const', 'julian']], y=day_series['tot'])\n",
    "day_series['trend'] = trend.predict(day_series[['const', 'julian']])\n",
    "day_series['diffusion'] = day_series['tot'] - day_series['trend']\n",
    "\n",
    "fig, ax = plt.subplots(figsize=(10,5))\n",
    "day_series[['tot', 'trend']].plot(ax=ax)"
   ]
  },
  {
   "cell_type": "code",
   "execution_count": 27,
   "metadata": {},
   "outputs": [
    {
     "data": {
      "text/plain": [
       "Text(0.5, 0.98, 'Fourier analysis')"
      ]
     },
     "execution_count": 27,
     "metadata": {},
     "output_type": "execute_result"
    },
    {
     "data": {
      "image/png": "[encoded data removed]",
      "text/plain": [
       "<Figure size 864x360 with 2 Axes>"
      ]
     },
     "metadata": {},
     "output_type": "display_data"
    }
   ],
   "source": [
    "import scipy.fft\n",
    "\n",
    "fft = scipy.fft.fft((day_series['diffusion'] - day_series['diffusion'].mean()).values)\n",
    "\n",
    "year_range = (day_series.index.max() - day_series.index.min()).days/365.0\n",
    "\n",
    "fig, axs = plt.subplots(1, 2, figsize=(12, 5), sharey=True)\n",
    "axs[0].plot(1./year_range * np.arange(len(fft)), np.abs(fft))\n",
    "axs[0].set_xlim([0,int(year_range)])\n",
    "axs[0].set_xlabel('Time period (years)')\n",
    "\n",
    "\n",
    "axs[1].plot(365./year_range * np.arange(len(fft)), np.abs(fft))\n",
    "axs[1].set_xlim([0,400])\n",
    "axs[1].set_xlabel('Time period (days)')\n",
    "\n",
    "fig.suptitle('Fourier analysis')"
   ]
  },
  {
   "cell_type": "code",
   "execution_count": 28,
   "metadata": {},
   "outputs": [],
   "source": [
    "# Fourier features\n",
    "day_series['sin(year)'] = np.sin(day_series['julian'] / 365.25 * 2 * np.pi)\n",
    "day_series['cos(year)'] = np.cos(day_series['julian'] / 365.25 * 2 * np.pi)\n",
    "day_series['sin(3mo)'] = np.sin(day_series['julian'] / (365.25 / 4) * 2 * np.pi)\n",
    "day_series['cos(3mo)'] = np.cos(day_series['julian'] / (365.25 / 4) * 2 * np.pi)"
   ]
  },
  {
   "cell_type": "code",
   "execution_count": 29,
   "metadata": {},
   "outputs": [
    {
     "data": {
      "text/plain": [
       "0.44837294977653064"
      ]
     },
     "execution_count": 29,
     "metadata": {},
     "output_type": "execute_result"
    }
   ],
   "source": [
    "from sklearn.linear_model import Ridge\n",
    "\n",
    "X_train, X_test, y_train, y_test = train_test_split(day_series[['julian', 'trend', 'sin(year)', 'cos(year)',\n",
    "                                                               'sin(3mo)', 'cos(3mo)']],\n",
    "                                                    day_series['tot'], test_size=0.3, shuffle=False)\n",
    "\n",
    "fourier_predictor = Ridge(alpha=0.01)\n",
    "\n",
    "fourier_predictor.fit(X_train, y_train)\n",
    "\n",
    "y_pred = fourier_predictor.predict(X_test)\n",
    "\n",
    "r2_score(y_test, y_pred)"
   ]
  },
  {
   "cell_type": "markdown",
   "metadata": {},
   "source": [
    "## Prediction using the hour"
   ]
  },
  {
   "cell_type": "code",
   "execution_count": 30,
   "metadata": {},
   "outputs": [
    {
     "data": {
      "text/plain": [
       "<AxesSubplot:xlabel='hour'>"
      ]
     },
     "execution_count": 30,
     "metadata": {},
     "output_type": "execute_result"
    },
    {
     "data": {
      "image/png": "[encoded data removed]",
      "text/plain": [
       "<Figure size 432x288 with 1 Axes>"
      ]
     },
     "metadata": {},
     "output_type": "display_data"
    }
   ],
   "source": [
    "hour_series = X[['tot', 'hour']].groupby('hour').sum()\n",
    "hour_series.plot()"
   ]
  },
  {
   "cell_type": "code",
   "execution_count": 31,
   "metadata": {},
   "outputs": [],
   "source": [
    "from sklearn import base\n",
    "\n",
    "class HourPredictor(base.BaseEstimator, base.RegressorMixin):\n",
    "    \n",
    "    def __init__(self):\n",
    "        self.reference_dict = {}\n",
    "    \n",
    "    def fit(self, hour_series, y):\n",
    "        self.reference_dict = (hour_series/hour_series.max()).to_dict()['tot']\n",
    "        return self\n",
    "\n",
    "    def predict(self, X):\n",
    "        y_pred = X['hour'].replace(to_replace=self.reference_dict)\n",
    "        return y_pred"
   ]
  },
  {
   "cell_type": "code",
   "execution_count": 32,
   "metadata": {},
   "outputs": [
    {
     "data": {
      "text/plain": [
       "HourPredictor()"
      ]
     },
     "execution_count": 32,
     "metadata": {},
     "output_type": "execute_result"
    }
   ],
   "source": [
    "hour_predictor = HourPredictor()\n",
    "\n",
    "hour_predictor.fit(hour_series, None)"
   ]
  },
  {
   "cell_type": "markdown",
   "metadata": {},
   "source": [
    "## Let's glue all togheter and try\n",
    "\n",
    "The idea is to recompute the map of the risk for the streets segments based on the prediction we made. The risk score now is the predicted risk computed in the first part of this notebook. The day and the hour enter the computations as multiplicative coefficents. "
   ]
  },
  {
   "cell_type": "code",
   "execution_count": 33,
   "metadata": {},
   "outputs": [
    {
     "name": "stderr",
     "output_type": "stream",
     "text": [
      "/var/folders/3y/l8_jr0vx02l53_k2q_bglwb80000gp/T/ipykernel_66764/1711131048.py:13: SettingWithCopyWarning: \n",
      "A value is trying to be set on a copy of a slice from a DataFrame.\n",
      "Try using .loc[row_indexer,col_indexer] = value instead\n",
      "\n",
      "See the caveats in the documentation: https://pandas.pydata.org/pandas-docs/stable/user_guide/indexing.html#returning-a-view-versus-a-copy\n",
      "  X['lat_mid'] = (X['lat_1'] + X['lat_2'])/2\n",
      "/var/folders/3y/l8_jr0vx02l53_k2q_bglwb80000gp/T/ipykernel_66764/1711131048.py:14: SettingWithCopyWarning: \n",
      "A value is trying to be set on a copy of a slice from a DataFrame.\n",
      "Try using .loc[row_indexer,col_indexer] = value instead\n",
      "\n",
      "See the caveats in the documentation: https://pandas.pydata.org/pandas-docs/stable/user_guide/indexing.html#returning-a-view-versus-a-copy\n",
      "  X['long_mid'] = (X['long_1'] + X['long_2'])/2\n"
     ]
    }
   ],
   "source": [
    "X = df_streets[to_analyze]\n",
    "y = df_streets['weight']\n",
    "\n",
    "X_t = encoding_pipe.fit_transform(X)\n",
    "forest.fit(X_t, y)\n",
    "new_weights = forest.predict(X_t)\n"
   ]
  },
  {
   "cell_type": "code",
   "execution_count": 34,
   "metadata": {},
   "outputs": [],
   "source": [
    "df_streets_new = df_streets\n",
    "df_streets_new['weight'] = new_weights"
   ]
  },
  {
   "cell_type": "code",
   "execution_count": 35,
   "metadata": {},
   "outputs": [],
   "source": [
    "from datetime import datetime\n",
    "\n",
    "def update_map(date, hour):\n",
    "    \n",
    "    df_curr = df_streets_new\n",
    "    \n",
    "    if date:        \n",
    "        # time-based-prediction\n",
    "        date = datetime.strptime(date, '%d/%m/%Y')\n",
    "        day_test = pd.DataFrame(index=[date])\n",
    "\n",
    "        day_test['julian'] = pd.DatetimeIndex(day_test.index).to_julian_date()\n",
    "        day_test['const'] = pd.Series(np.ones(len(day_test.index)), index=day_test.index)\n",
    "        day_test['trend'] = trend.predict(day_test[['const', 'julian']])\n",
    "        day_test['sin(year)'] = np.sin(day_test['julian'] / 365.25 * 2 * np.pi)\n",
    "        day_test['cos(year)'] = np.cos(day_test['julian'] / 365.25 * 2 * np.pi)\n",
    "        day_test['sin(3mo)'] = np.sin(day_test['julian'] / (365.25 / 4) * 2 * np.pi)\n",
    "        day_test['cos(3mo)'] = np.cos(day_test['julian'] / (365.25 / 4) * 2 * np.pi)\n",
    "\n",
    "        date_coeff = fourier_predictor.predict(day_test[['julian', 'trend', 'sin(year)', 'cos(year)', 'sin(3mo)', 'cos(3mo)']])[0]\n",
    "    \n",
    "    if date:        \n",
    "        # hour-based-prediction\n",
    "        hour = datetime.strptime(hour, '%H:%M').hour\n",
    "        hour_test = pd.DataFrame([hour], index=[0], columns=['hour'])\n",
    "        hour_coeff = hour_predictor.predict(hour_test)[0]\n",
    "        \n",
    "    df_curr['weight'] = df_curr['weight'] * date_coeff * hour_coeff\n",
    "    \n",
    "    return df_curr\n"
   ]
  },
  {
   "cell_type": "code",
   "execution_count": 36,
   "metadata": {},
   "outputs": [
    {
     "data": {
      "text/html": [
       "<div>\n",
       "<style scoped>\n",
       "    .dataframe tbody tr th:only-of-type {\n",
       "        vertical-align: middle;\n",
       "    }\n",
       "\n",
       "    .dataframe tbody tr th {\n",
       "        vertical-align: top;\n",
       "    }\n",
       "\n",
       "    .dataframe thead th {\n",
       "        text-align: right;\n",
       "    }\n",
       "</style>\n",
       "<table border=\"1\" class=\"dataframe\">\n",
       "  <thead>\n",
       "    <tr style=\"text-align: right;\">\n",
       "      <th></th>\n",
       "      <th>Unnamed: 0</th>\n",
       "      <th>the_geom</th>\n",
       "      <th>physicalid</th>\n",
       "      <th>st_label</th>\n",
       "      <th>borocode</th>\n",
       "      <th>st_width</th>\n",
       "      <th>trafdir</th>\n",
       "      <th>rw_type</th>\n",
       "      <th>snow_pri</th>\n",
       "      <th>full_stree</th>\n",
       "      <th>...</th>\n",
       "      <th>shape_leng</th>\n",
       "      <th>bike_lane</th>\n",
       "      <th>bike_trafd</th>\n",
       "      <th>position_1</th>\n",
       "      <th>position_2</th>\n",
       "      <th>lat_1</th>\n",
       "      <th>long_1</th>\n",
       "      <th>lat_2</th>\n",
       "      <th>long_2</th>\n",
       "      <th>weight</th>\n",
       "    </tr>\n",
       "  </thead>\n",
       "  <tbody>\n",
       "    <tr>\n",
       "      <th>0</th>\n",
       "      <td>0</td>\n",
       "      <td>{'type': 'MultiLineString', 'coordinates': [[[...</td>\n",
       "      <td>3</td>\n",
       "      <td>BATTERY PL</td>\n",
       "      <td>1</td>\n",
       "      <td>42</td>\n",
       "      <td>TW</td>\n",
       "      <td>1</td>\n",
       "      <td>C</td>\n",
       "      <td>BATTERY PL</td>\n",
       "      <td>...</td>\n",
       "      <td>262.777812</td>\n",
       "      <td>0</td>\n",
       "      <td>0</td>\n",
       "      <td>[-74.01793061274537, 40.706174865639746]</td>\n",
       "      <td>[-74.01786933958108, 40.70634871855222]</td>\n",
       "      <td>40.706175</td>\n",
       "      <td>-74.017931</td>\n",
       "      <td>40.706349</td>\n",
       "      <td>-74.017869</td>\n",
       "      <td>1.540864</td>\n",
       "    </tr>\n",
       "    <tr>\n",
       "      <th>1</th>\n",
       "      <td>1</td>\n",
       "      <td>{'type': 'MultiLineString', 'coordinates': [[[...</td>\n",
       "      <td>5</td>\n",
       "      <td>BATTERY PL</td>\n",
       "      <td>1</td>\n",
       "      <td>42</td>\n",
       "      <td>TW</td>\n",
       "      <td>1</td>\n",
       "      <td>C</td>\n",
       "      <td>BATTERY PL</td>\n",
       "      <td>...</td>\n",
       "      <td>259.415989</td>\n",
       "      <td>0</td>\n",
       "      <td>0</td>\n",
       "      <td>[-74.01757437049282, 40.706839867152155]</td>\n",
       "      <td>[-74.01712051881411, 40.70746253088075]</td>\n",
       "      <td>40.706840</td>\n",
       "      <td>-74.017574</td>\n",
       "      <td>40.707463</td>\n",
       "      <td>-74.017121</td>\n",
       "      <td>1.540864</td>\n",
       "    </tr>\n",
       "    <tr>\n",
       "      <th>2</th>\n",
       "      <td>2</td>\n",
       "      <td>{'type': 'MultiLineString', 'coordinates': [[[...</td>\n",
       "      <td>6</td>\n",
       "      <td>BATTERY PL</td>\n",
       "      <td>1</td>\n",
       "      <td>42</td>\n",
       "      <td>TW</td>\n",
       "      <td>1</td>\n",
       "      <td>C</td>\n",
       "      <td>BATTERY PL</td>\n",
       "      <td>...</td>\n",
       "      <td>280.444781</td>\n",
       "      <td>0</td>\n",
       "      <td>0</td>\n",
       "      <td>[-74.01712051881411, 40.70746253088075]</td>\n",
       "      <td>[-74.01662578576105, 40.708133934649545]</td>\n",
       "      <td>40.707463</td>\n",
       "      <td>-74.017121</td>\n",
       "      <td>40.708134</td>\n",
       "      <td>-74.016626</td>\n",
       "      <td>1.540864</td>\n",
       "    </tr>\n",
       "    <tr>\n",
       "      <th>3</th>\n",
       "      <td>3</td>\n",
       "      <td>{'type': 'MultiLineString', 'coordinates': [[[...</td>\n",
       "      <td>8</td>\n",
       "      <td>BATTERY PL</td>\n",
       "      <td>1</td>\n",
       "      <td>42</td>\n",
       "      <td>TW</td>\n",
       "      <td>1</td>\n",
       "      <td>C</td>\n",
       "      <td>BATTERY PL</td>\n",
       "      <td>...</td>\n",
       "      <td>32.070139</td>\n",
       "      <td>0</td>\n",
       "      <td>0</td>\n",
       "      <td>[-74.01693786186667, 40.704813986596974]</td>\n",
       "      <td>[-74.01704963744208, 40.70483662931333]</td>\n",
       "      <td>40.704814</td>\n",
       "      <td>-74.016938</td>\n",
       "      <td>40.704837</td>\n",
       "      <td>-74.017050</td>\n",
       "      <td>1.540864</td>\n",
       "    </tr>\n",
       "    <tr>\n",
       "      <th>4</th>\n",
       "      <td>4</td>\n",
       "      <td>{'type': 'MultiLineString', 'coordinates': [[[...</td>\n",
       "      <td>14</td>\n",
       "      <td>BATTERY PL</td>\n",
       "      <td>1</td>\n",
       "      <td>24</td>\n",
       "      <td>TF</td>\n",
       "      <td>1</td>\n",
       "      <td>C</td>\n",
       "      <td>BATTERY PL</td>\n",
       "      <td>...</td>\n",
       "      <td>206.271850</td>\n",
       "      <td>0</td>\n",
       "      <td>0</td>\n",
       "      <td>[-74.01428922948978, 40.70454907535253]</td>\n",
       "      <td>[-74.01437031212745, 40.704558037844706]</td>\n",
       "      <td>40.704549</td>\n",
       "      <td>-74.014289</td>\n",
       "      <td>40.704558</td>\n",
       "      <td>-74.014370</td>\n",
       "      <td>1.641192</td>\n",
       "    </tr>\n",
       "    <tr>\n",
       "      <th>...</th>\n",
       "      <td>...</td>\n",
       "      <td>...</td>\n",
       "      <td>...</td>\n",
       "      <td>...</td>\n",
       "      <td>...</td>\n",
       "      <td>...</td>\n",
       "      <td>...</td>\n",
       "      <td>...</td>\n",
       "      <td>...</td>\n",
       "      <td>...</td>\n",
       "      <td>...</td>\n",
       "      <td>...</td>\n",
       "      <td>...</td>\n",
       "      <td>...</td>\n",
       "      <td>...</td>\n",
       "      <td>...</td>\n",
       "      <td>...</td>\n",
       "      <td>...</td>\n",
       "      <td>...</td>\n",
       "      <td>...</td>\n",
       "      <td>...</td>\n",
       "    </tr>\n",
       "    <tr>\n",
       "      <th>120217</th>\n",
       "      <td>120217</td>\n",
       "      <td>{'type': 'MultiLineString', 'coordinates': [[[...</td>\n",
       "      <td>193772</td>\n",
       "      <td>W 11 ST</td>\n",
       "      <td>1</td>\n",
       "      <td>30</td>\n",
       "      <td>FT</td>\n",
       "      <td>1</td>\n",
       "      <td>C</td>\n",
       "      <td>W  11 ST</td>\n",
       "      <td>...</td>\n",
       "      <td>890.835581</td>\n",
       "      <td>0</td>\n",
       "      <td>0</td>\n",
       "      <td>[-73.99827418986168, 40.73539113958072]</td>\n",
       "      <td>[-74.00100243918403, 40.73654263256144]</td>\n",
       "      <td>40.735391</td>\n",
       "      <td>-73.998274</td>\n",
       "      <td>40.736543</td>\n",
       "      <td>-74.001002</td>\n",
       "      <td>2.367123</td>\n",
       "    </tr>\n",
       "    <tr>\n",
       "      <th>120218</th>\n",
       "      <td>120218</td>\n",
       "      <td>{'type': 'MultiLineString', 'coordinates': [[[...</td>\n",
       "      <td>193773</td>\n",
       "      <td>W 11 ST</td>\n",
       "      <td>1</td>\n",
       "      <td>28</td>\n",
       "      <td>FT</td>\n",
       "      <td>1</td>\n",
       "      <td>C</td>\n",
       "      <td>W  11 ST</td>\n",
       "      <td>...</td>\n",
       "      <td>244.011626</td>\n",
       "      <td>0</td>\n",
       "      <td>0</td>\n",
       "      <td>[-74.00109395779207, 40.736560232724436]</td>\n",
       "      <td>[-74.00126555338024, 40.73650164915443]</td>\n",
       "      <td>40.736560</td>\n",
       "      <td>-74.001094</td>\n",
       "      <td>40.736502</td>\n",
       "      <td>-74.001266</td>\n",
       "      <td>1.390861</td>\n",
       "    </tr>\n",
       "    <tr>\n",
       "      <th>120219</th>\n",
       "      <td>120219</td>\n",
       "      <td>{'type': 'MultiLineString', 'coordinates': [[[...</td>\n",
       "      <td>193774</td>\n",
       "      <td>VAN WYCK EXPRESSWAY EXIT 7 SB</td>\n",
       "      <td>4</td>\n",
       "      <td>0</td>\n",
       "      <td>FT</td>\n",
       "      <td>9</td>\n",
       "      <td>C</td>\n",
       "      <td>I 678 EXIT 7 SB</td>\n",
       "      <td>...</td>\n",
       "      <td>794.210400</td>\n",
       "      <td>0</td>\n",
       "      <td>0</td>\n",
       "      <td>[-73.82895450456604, 40.71484534131804]</td>\n",
       "      <td>[-73.82625020254362, 40.71556502334653]</td>\n",
       "      <td>40.714845</td>\n",
       "      <td>-73.828955</td>\n",
       "      <td>40.715565</td>\n",
       "      <td>-73.826250</td>\n",
       "      <td>0.050000</td>\n",
       "    </tr>\n",
       "    <tr>\n",
       "      <th>120220</th>\n",
       "      <td>120220</td>\n",
       "      <td>{'type': 'MultiLineString', 'coordinates': [[[...</td>\n",
       "      <td>193781</td>\n",
       "      <td>BELT PKWY</td>\n",
       "      <td>3</td>\n",
       "      <td>32</td>\n",
       "      <td>TF</td>\n",
       "      <td>2</td>\n",
       "      <td>C</td>\n",
       "      <td>BELT PKWY</td>\n",
       "      <td>...</td>\n",
       "      <td>358.298231</td>\n",
       "      <td>0</td>\n",
       "      <td>0</td>\n",
       "      <td>[-73.91297959961221, 40.58587205532756]</td>\n",
       "      <td>[-73.91190615839747, 40.58641745233693]</td>\n",
       "      <td>40.585872</td>\n",
       "      <td>-73.912980</td>\n",
       "      <td>40.586417</td>\n",
       "      <td>-73.911906</td>\n",
       "      <td>0.106901</td>\n",
       "    </tr>\n",
       "    <tr>\n",
       "      <th>120221</th>\n",
       "      <td>120221</td>\n",
       "      <td>{'type': 'MultiLineString', 'coordinates': [[[...</td>\n",
       "      <td>193782</td>\n",
       "      <td>BELT PKWY</td>\n",
       "      <td>3</td>\n",
       "      <td>32</td>\n",
       "      <td>FT</td>\n",
       "      <td>2</td>\n",
       "      <td>C</td>\n",
       "      <td>BELT PKWY</td>\n",
       "      <td>...</td>\n",
       "      <td>353.509122</td>\n",
       "      <td>0</td>\n",
       "      <td>0</td>\n",
       "      <td>[-73.9128439827589, 40.58575697975715]</td>\n",
       "      <td>[-73.91180110057417, 40.58631318350674]</td>\n",
       "      <td>40.585757</td>\n",
       "      <td>-73.912844</td>\n",
       "      <td>40.586313</td>\n",
       "      <td>-73.911801</td>\n",
       "      <td>0.106901</td>\n",
       "    </tr>\n",
       "  </tbody>\n",
       "</table>\n",
       "<p>120222 rows × 21 columns</p>\n",
       "</div>"
      ],
      "text/plain": [
       "        Unnamed: 0                                           the_geom  \\\n",
       "0                0  {'type': 'MultiLineString', 'coordinates': [[[...   \n",
       "1                1  {'type': 'MultiLineString', 'coordinates': [[[...   \n",
       "2                2  {'type': 'MultiLineString', 'coordinates': [[[...   \n",
       "3                3  {'type': 'MultiLineString', 'coordinates': [[[...   \n",
       "4                4  {'type': 'MultiLineString', 'coordinates': [[[...   \n",
       "...            ...                                                ...   \n",
       "120217      120217  {'type': 'MultiLineString', 'coordinates': [[[...   \n",
       "120218      120218  {'type': 'MultiLineString', 'coordinates': [[[...   \n",
       "120219      120219  {'type': 'MultiLineString', 'coordinates': [[[...   \n",
       "120220      120220  {'type': 'MultiLineString', 'coordinates': [[[...   \n",
       "120221      120221  {'type': 'MultiLineString', 'coordinates': [[[...   \n",
       "\n",
       "        physicalid                       st_label  borocode  st_width trafdir  \\\n",
       "0                3                     BATTERY PL         1        42      TW   \n",
       "1                5                     BATTERY PL         1        42      TW   \n",
       "2                6                     BATTERY PL         1        42      TW   \n",
       "3                8                     BATTERY PL         1        42      TW   \n",
       "4               14                     BATTERY PL         1        24      TF   \n",
       "...            ...                            ...       ...       ...     ...   \n",
       "120217      193772                        W 11 ST         1        30      FT   \n",
       "120218      193773                        W 11 ST         1        28      FT   \n",
       "120219      193774  VAN WYCK EXPRESSWAY EXIT 7 SB         4         0      FT   \n",
       "120220      193781                      BELT PKWY         3        32      TF   \n",
       "120221      193782                      BELT PKWY         3        32      FT   \n",
       "\n",
       "        rw_type snow_pri       full_stree  ...  shape_leng  bike_lane  \\\n",
       "0             1        C       BATTERY PL  ...  262.777812          0   \n",
       "1             1        C       BATTERY PL  ...  259.415989          0   \n",
       "2             1        C       BATTERY PL  ...  280.444781          0   \n",
       "3             1        C       BATTERY PL  ...   32.070139          0   \n",
       "4             1        C       BATTERY PL  ...  206.271850          0   \n",
       "...         ...      ...              ...  ...         ...        ...   \n",
       "120217        1        C         W  11 ST  ...  890.835581          0   \n",
       "120218        1        C         W  11 ST  ...  244.011626          0   \n",
       "120219        9        C  I 678 EXIT 7 SB  ...  794.210400          0   \n",
       "120220        2        C        BELT PKWY  ...  358.298231          0   \n",
       "120221        2        C        BELT PKWY  ...  353.509122          0   \n",
       "\n",
       "        bike_trafd                                position_1  \\\n",
       "0                0  [-74.01793061274537, 40.706174865639746]   \n",
       "1                0  [-74.01757437049282, 40.706839867152155]   \n",
       "2                0   [-74.01712051881411, 40.70746253088075]   \n",
       "3                0  [-74.01693786186667, 40.704813986596974]   \n",
       "4                0   [-74.01428922948978, 40.70454907535253]   \n",
       "...            ...                                       ...   \n",
       "120217           0   [-73.99827418986168, 40.73539113958072]   \n",
       "120218           0  [-74.00109395779207, 40.736560232724436]   \n",
       "120219           0   [-73.82895450456604, 40.71484534131804]   \n",
       "120220           0   [-73.91297959961221, 40.58587205532756]   \n",
       "120221           0    [-73.9128439827589, 40.58575697975715]   \n",
       "\n",
       "                                      position_2      lat_1     long_1  \\\n",
       "0        [-74.01786933958108, 40.70634871855222]  40.706175 -74.017931   \n",
       "1        [-74.01712051881411, 40.70746253088075]  40.706840 -74.017574   \n",
       "2       [-74.01662578576105, 40.708133934649545]  40.707463 -74.017121   \n",
       "3        [-74.01704963744208, 40.70483662931333]  40.704814 -74.016938   \n",
       "4       [-74.01437031212745, 40.704558037844706]  40.704549 -74.014289   \n",
       "...                                          ...        ...        ...   \n",
       "120217   [-74.00100243918403, 40.73654263256144]  40.735391 -73.998274   \n",
       "120218   [-74.00126555338024, 40.73650164915443]  40.736560 -74.001094   \n",
       "120219   [-73.82625020254362, 40.71556502334653]  40.714845 -73.828955   \n",
       "120220   [-73.91190615839747, 40.58641745233693]  40.585872 -73.912980   \n",
       "120221   [-73.91180110057417, 40.58631318350674]  40.585757 -73.912844   \n",
       "\n",
       "            lat_2     long_2    weight  \n",
       "0       40.706349 -74.017869  1.540864  \n",
       "1       40.707463 -74.017121  1.540864  \n",
       "2       40.708134 -74.016626  1.540864  \n",
       "3       40.704837 -74.017050  1.540864  \n",
       "4       40.704558 -74.014370  1.641192  \n",
       "...           ...        ...       ...  \n",
       "120217  40.736543 -74.001002  2.367123  \n",
       "120218  40.736502 -74.001266  1.390861  \n",
       "120219  40.715565 -73.826250  0.050000  \n",
       "120220  40.586417 -73.911906  0.106901  \n",
       "120221  40.586313 -73.911801  0.106901  \n",
       "\n",
       "[120222 rows x 21 columns]"
      ]
     },
     "execution_count": 36,
     "metadata": {},
     "output_type": "execute_result"
    }
   ],
   "source": [
    "update_map('16/10/2022', '19:00')"
   ]
  },
  {
   "cell_type": "code",
   "execution_count": 37,
   "metadata": {},
   "outputs": [],
   "source": [
    "pickle.dump(fourier_predictor, open('fourier_predictor', 'wb'))\n",
    "pickle.dump(hour_predictor, open('hour_predictor', 'wb'))\n",
    "pickle.dump(forest, open('street_predictor', 'wb'))"
   ]
  }
 ],
 "metadata": {
  "kernelspec": {
   "display_name": "geo_env",
   "language": "python",
   "name": "geo_env"
  },
  "language_info": {
   "codemirror_mode": {
    "name": "ipython",
    "version": 3
   },
   "file_extension": ".py",
   "mimetype": "text/x-python",
   "name": "python",
   "nbconvert_exporter": "python",
   "pygments_lexer": "ipython3",
   "version": "3.9.7"
  }
 },
 "nbformat": 4,
 "nbformat_minor": 4
}
